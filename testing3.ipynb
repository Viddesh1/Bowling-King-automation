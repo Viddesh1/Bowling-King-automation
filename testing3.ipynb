{
  "cells": [
    {
      "cell_type": "markdown",
      "metadata": {
        "id": "view-in-github",
        "colab_type": "text"
      },
      "source": [
        "<a href=\"https://colab.research.google.com/github/Viddesh1/Bowling-King-automation/blob/main/testing3.ipynb\" target=\"_parent\"><img src=\"https://colab.research.google.com/assets/colab-badge.svg\" alt=\"Open In Colab\"/></a>"
      ]
    },
    {
      "cell_type": "code",
      "execution_count": null,
      "metadata": {
        "id": "wq3zXTG2vZuB"
      },
      "outputs": [],
      "source": [
        "#### It is showing jupyter server"
      ]
    },
    {
      "cell_type": "markdown",
      "metadata": {
        "id": "TzaSTvIwvZuE"
      },
      "source": []
    },
    {
      "cell_type": "code",
      "source": [
        "print(\"Hello again Testing tocolab in url\")"
      ],
      "metadata": {
        "id": "MvT2ZsfJvb_G"
      },
      "execution_count": null,
      "outputs": []
    },
    {
      "cell_type": "code",
      "source": [],
      "metadata": {
        "id": "v7CmhxQ-voFL",
        "outputId": "5e408b6f-d0cd-4ff3-bedb-02fae2e6ff47",
        "colab": {
          "base_uri": "https://localhost:8080/"
        }
      },
      "execution_count": 1,
      "outputs": [
        {
          "output_type": "stream",
          "name": "stdout",
          "text": [
            "fatal: not a git repository (or any of the parent directories): .git\n"
          ]
        }
      ]
    }
  ],
  "metadata": {
    "language_info": {
      "name": "python"
    },
    "orig_nbformat": 4,
    "colab": {
      "provenance": [],
      "include_colab_link": true
    },
    "kernelspec": {
      "name": "python3",
      "display_name": "Python 3"
    }
  },
  "nbformat": 4,
  "nbformat_minor": 0
}